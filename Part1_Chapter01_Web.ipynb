{
 "cells": [
  {
   "cell_type": "markdown",
   "metadata": {},
   "source": [
    "### Tag\n",
    "\n",
    "- HTML 문서의 기본 블락\n",
    "    - 브라우저에게, 어떻게 렌더링 (화면에 표시)될지 전달.\n",
    "    - <태그명 속성1=\"속성값1\" 속성2=\"속성값2\">Value</태그명>\n",
    "    - <태그명 속성1=\"속성값1\" 속성2=\"속성값2\"/>\n",
    "    - ex) <h3 class=tit_view\" data-translation>일론머스크 \"테슬라에서 넷플릭스, 유튜브 즐길 날 온다\"</h3>."
   ]
  },
  {
   "cell_type": "markdown",
   "metadata": {},
   "source": [
    "<html>\n",
    "    <head>\n",
    "        <title>BeautifulSoup test</title>\n",
    "    </head>\n",
    "    <body>\n",
    "    <div id='upper' class='test'>\n",
    "        <h3 title='Good Content Title'>Contents Title</h3>\n",
    "        <p>Test contents</p>\n",
    "        <img src='https://cdn.nba.net/nba-drupal-prod/styles/\n",
    "                  "
   ]
  }
 ],
 "metadata": {
  "kernelspec": {
   "display_name": "Python 3",
   "language": "python",
   "name": "python3"
  },
  "language_info": {
   "codemirror_mode": {
    "name": "ipython",
    "version": 3
   },
   "file_extension": ".py",
   "mimetype": "text/x-python",
   "name": "python",
   "nbconvert_exporter": "python",
   "pygments_lexer": "ipython3",
   "version": "3.7.6"
  }
 },
 "nbformat": 4,
 "nbformat_minor": 4
}
